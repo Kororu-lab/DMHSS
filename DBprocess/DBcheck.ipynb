{
 "cells": [
  {
   "cell_type": "code",
   "execution_count": 1,
   "metadata": {},
   "outputs": [],
   "source": [
    "import pandas as pd"
   ]
  },
  {
   "cell_type": "code",
   "execution_count": 2,
   "metadata": {},
   "outputs": [
    {
     "name": "stdout",
     "output_type": "stream",
     "text": [
      "                         _id     id   created_utc     subreddit     author  \\\n",
      "0   65632b090c44b2f746b39dc4  15303  1.133395e+09    reddit.com     mordel   \n",
      "1   65632b140c44b2f746c7e3cc  66lwo  1.201281e+09       atheism  [deleted]   \n",
      "2   65632b140c44b2f746c7f004  66obr  1.201341e+09           sex       7oby   \n",
      "3   65632b140c44b2f746c7f47c  66p7l  1.201371e+09       atheism  [deleted]   \n",
      "4   65632b140c44b2f746c7f57c  66per  1.201375e+09  Christianity   BibleNut   \n",
      "..                       ...    ...           ...           ...        ...   \n",
      "95  65632b160c44b2f746cc927c  6d7hc  1.206384e+09       atheism  [deleted]   \n",
      "96  65632b160c44b2f746cca2e4  6dard  1.206451e+09          jobs   Escafane   \n",
      "97  65632b160c44b2f746cca2e8  6dari  1.206451e+09          jobs   Escafane   \n",
      "98  65632b160c44b2f746cca2ec  6darm  1.206451e+09          jobs   Escafane   \n",
      "99  65632b160c44b2f746cca2fc  6das2  1.206451e+09          jobs   Escafane   \n",
      "\n",
      "                                                title   selftext  score  \\\n",
      "0   Updated analysis of Huygens probe data of Satu...        NaN    4.0   \n",
      "1              The Complete Works of Robert Ingersoll        NaN    4.0   \n",
      "2   Jackin World - The Ultimate Male Masturbation ...        NaN   13.0   \n",
      "3      Loneliness Leads to Belief in the Supernatural        NaN    5.0   \n",
      "4                                        Genesis 1:2         NaN    0.0   \n",
      "..                                                ...        ...    ...   \n",
      "95  \"Head teachers should allow imams, rabbis and ...  [deleted]    0.0   \n",
      "96               64 Interview Answers you need to now        NaN    1.0   \n",
      "97     How to Answer the Toughest Interview Questions        NaN    2.0   \n",
      "98                  How to write a resignation letter        NaN    5.0   \n",
      "99      A Glimpse and a Hook - You've got 30 seconds.        NaN    4.0   \n",
      "\n",
      "    num_comments  65632b140c44b2f746c7e741  ...  \\\n",
      "0            0.0                       NaN  ...   \n",
      "1            0.0                       NaN  ...   \n",
      "2            1.0                       NaN  ...   \n",
      "3            5.0                       NaN  ...   \n",
      "4            0.0                       NaN  ...   \n",
      "..           ...                       ...  ...   \n",
      "95           0.0                       NaN  ...   \n",
      "96           0.0                       NaN  ...   \n",
      "97           0.0                       NaN  ...   \n",
      "98           1.0                       NaN  ...   \n",
      "99           0.0                       NaN  ...   \n",
      "\n",
      "    How to Build a Universe That Doesn't Fall Apart Two Days Later  \\\n",
      "0                                                 NaN                \n",
      "1                                                 NaN                \n",
      "2                                                 NaN                \n",
      "3                                                 NaN                \n",
      "4                                                 NaN                \n",
      "..                                                ...                \n",
      "95                                                NaN                \n",
      "96                                                NaN                \n",
      "97                                                NaN                \n",
      "98                                                NaN                \n",
      "99                                                NaN                \n",
      "\n",
      "    Unnamed: 6   4  65632b140c44b2f746c7dd43  66km0  1201252553  atheism  \\\n",
      "0          NaN NaN                       NaN    NaN         NaN      NaN   \n",
      "1          NaN NaN                       NaN    NaN         NaN      NaN   \n",
      "2          NaN NaN                       NaN    NaN         NaN      NaN   \n",
      "3          NaN NaN                       NaN    NaN         NaN      NaN   \n",
      "4          NaN NaN                       NaN    NaN         NaN      NaN   \n",
      "..         ...  ..                       ...    ...         ...      ...   \n",
      "95         NaN NaN                       NaN    NaN         NaN      NaN   \n",
      "96         NaN NaN                       NaN    NaN         NaN      NaN   \n",
      "97         NaN NaN                       NaN    NaN         NaN      NaN   \n",
      "98         NaN NaN                       NaN    NaN         NaN      NaN   \n",
      "99         NaN NaN                       NaN    NaN         NaN      NaN   \n",
      "\n",
      "    skeen  Minnesota Atheists Interview Richard Dawkins   1  \n",
      "0     NaN                                           NaN NaN  \n",
      "1     NaN                                           NaN NaN  \n",
      "2     NaN                                           NaN NaN  \n",
      "3     NaN                                           NaN NaN  \n",
      "4     NaN                                           NaN NaN  \n",
      "..    ...                                           ...  ..  \n",
      "95    NaN                                           NaN NaN  \n",
      "96    NaN                                           NaN NaN  \n",
      "97    NaN                                           NaN NaN  \n",
      "98    NaN                                           NaN NaN  \n",
      "99    NaN                                           NaN NaN  \n",
      "\n",
      "[100 rows x 32 columns]\n"
     ]
    }
   ],
   "source": [
    "# Define file path\n",
    "input_file = 'filtered_submissions_by_subreddit.csv'\n",
    "\n",
    "# Read the first 100 rows of the CSV file\n",
    "df = pd.read_csv(input_file, nrows=100)\n",
    "\n",
    "# Display the data\n",
    "print(df)"
   ]
  },
  {
   "cell_type": "code",
   "execution_count": null,
   "metadata": {},
   "outputs": [],
   "source": []
  }
 ],
 "metadata": {
  "kernelspec": {
   "display_name": "dl",
   "language": "python",
   "name": "python3"
  },
  "language_info": {
   "codemirror_mode": {
    "name": "ipython",
    "version": 3
   },
   "file_extension": ".py",
   "mimetype": "text/x-python",
   "name": "python",
   "nbconvert_exporter": "python",
   "pygments_lexer": "ipython3",
   "version": "3.10.12"
  }
 },
 "nbformat": 4,
 "nbformat_minor": 2
}
