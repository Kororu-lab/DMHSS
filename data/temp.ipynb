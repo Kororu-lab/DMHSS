{
 "cells": [
  {
   "cell_type": "code",
   "execution_count": 1,
   "metadata": {},
   "outputs": [],
   "source": [
    "import pandas as pd"
   ]
  },
  {
   "cell_type": "code",
   "execution_count": 2,
   "metadata": {},
   "outputs": [
    {
     "name": "stderr",
     "output_type": "stream",
     "text": [
      "/tmp/ipykernel_167291/3500656556.py:1: DtypeWarning: Columns (1) have mixed types. Specify dtype option on import or set low_memory=False.\n",
      "  data = pd.read_csv(\"processed/SuicideWatch_comments.csv\")\n"
     ]
    }
   ],
   "source": [
    "data = pd.read_csv(\"processed/SuicideWatch_comments.csv\")"
   ]
  },
  {
   "cell_type": "code",
   "execution_count": 3,
   "metadata": {},
   "outputs": [
    {
     "data": {
      "text/html": [
       "<div>\n",
       "<style scoped>\n",
       "    .dataframe tbody tr th:only-of-type {\n",
       "        vertical-align: middle;\n",
       "    }\n",
       "\n",
       "    .dataframe tbody tr th {\n",
       "        vertical-align: top;\n",
       "    }\n",
       "\n",
       "    .dataframe thead th {\n",
       "        text-align: right;\n",
       "    }\n",
       "</style>\n",
       "<table border=\"1\" class=\"dataframe\">\n",
       "  <thead>\n",
       "    <tr style=\"text-align: right;\">\n",
       "      <th></th>\n",
       "      <th>created_utc</th>\n",
       "      <th>subreddit_name_prefixed</th>\n",
       "      <th>author</th>\n",
       "      <th>body</th>\n",
       "    </tr>\n",
       "  </thead>\n",
       "  <tbody>\n",
       "    <tr>\n",
       "      <th>0</th>\n",
       "      <td>1229580465</td>\n",
       "      <td>NaN</td>\n",
       "      <td>linuxlass</td>\n",
       "      <td>Johnny Depp, I think. I have a vague recollect...</td>\n",
       "    </tr>\n",
       "    <tr>\n",
       "      <th>1</th>\n",
       "      <td>1229581294</td>\n",
       "      <td>NaN</td>\n",
       "      <td>cfabbro</td>\n",
       "      <td>I don't really know what to say...\\n\\nI'm terr...</td>\n",
       "    </tr>\n",
       "    <tr>\n",
       "      <th>2</th>\n",
       "      <td>1229581333</td>\n",
       "      <td>NaN</td>\n",
       "      <td>stillsad</td>\n",
       "      <td>thanks everyone. \\n     \\nI really should exer...</td>\n",
       "    </tr>\n",
       "    <tr>\n",
       "      <th>3</th>\n",
       "      <td>1229581651</td>\n",
       "      <td>NaN</td>\n",
       "      <td>S2S2S2S2S2</td>\n",
       "      <td>Hope for the future, or things getting better,...</td>\n",
       "    </tr>\n",
       "    <tr>\n",
       "      <th>4</th>\n",
       "      <td>1229582094</td>\n",
       "      <td>NaN</td>\n",
       "      <td>weaselonfire</td>\n",
       "      <td>Can I just say, I've read a bunch of your post...</td>\n",
       "    </tr>\n",
       "  </tbody>\n",
       "</table>\n",
       "</div>"
      ],
      "text/plain": [
       "   created_utc subreddit_name_prefixed        author  \\\n",
       "0   1229580465                     NaN     linuxlass   \n",
       "1   1229581294                     NaN       cfabbro   \n",
       "2   1229581333                     NaN      stillsad   \n",
       "3   1229581651                     NaN    S2S2S2S2S2   \n",
       "4   1229582094                     NaN  weaselonfire   \n",
       "\n",
       "                                                body  \n",
       "0  Johnny Depp, I think. I have a vague recollect...  \n",
       "1  I don't really know what to say...\\n\\nI'm terr...  \n",
       "2  thanks everyone. \\n     \\nI really should exer...  \n",
       "3  Hope for the future, or things getting better,...  \n",
       "4  Can I just say, I've read a bunch of your post...  "
      ]
     },
     "execution_count": 3,
     "metadata": {},
     "output_type": "execute_result"
    }
   ],
   "source": [
    "data.head()"
   ]
  },
  {
   "cell_type": "code",
   "execution_count": null,
   "metadata": {},
   "outputs": [],
   "source": []
  }
 ],
 "metadata": {
  "kernelspec": {
   "display_name": "Python 3",
   "language": "python",
   "name": "python3"
  },
  "language_info": {
   "codemirror_mode": {
    "name": "ipython",
    "version": 3
   },
   "file_extension": ".py",
   "mimetype": "text/x-python",
   "name": "python",
   "nbconvert_exporter": "python",
   "pygments_lexer": "ipython3",
   "version": "3.11.4"
  },
  "orig_nbformat": 4
 },
 "nbformat": 4,
 "nbformat_minor": 2
}
