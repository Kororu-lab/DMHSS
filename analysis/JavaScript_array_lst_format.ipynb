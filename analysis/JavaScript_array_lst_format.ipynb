{
 "cells": [
  {
   "cell_type": "code",
   "execution_count": 1,
   "metadata": {},
   "outputs": [],
   "source": [
    "# List of subreddits to filter by, converted to lower case\n",
    "intersection = [\n",
    "    \"findareddit\", \"NoStupidQuestions\", \"offmychest\", \"WritingPrompts\",\n",
    "    \"self\", \"lgbt\", \"explainlikeimfive\", \"mentalhealth\", \"raisedbynarcissists\",\n",
    "    \"skyrim\", \"unpopularopinion\", \"AskWomen\", \"Christianity\", \"jobs\",\n",
    "    \"OutOfTheLoop\", \"relationship_advice\", \"AMA\", \"TwoXChromosomes\",\n",
    "    \"AskOuija\", \"loseit\", \"Advice\", \"teenagers\", \"tifu\",\n",
    "    \"AskMen\", \"AmItheAsshole\", \"confession\", \"NoFap\", \"atheism\", \"copypasta\",\n",
    "    \"relationships\", \"TrueOffMyChest\", \"AskDocs\", \"dating_advice\",\n",
    "    \"CasualConversation\", \"depression\", \"rant\", \"sex\", \"Tinder\", \"Drugs\",\n",
    "    \"Anxiety\", \"legaladvice\", \"TooAfraidToAsk\", \"ADHD\", \"tipofmytongue\",\n",
    "    \"askscience\"\n",
    "]\n",
    "\n",
    "mh_subreddits = [\n",
    "    \"depression\", \"mentalhealth\", \"traumatoolbox\", \"BipolarReddit\", \n",
    "    \"BPD\", \"ptsd\", \"psychoticreddit\", \"EatingDisorders\", \"StopSelfHarm\", \n",
    "    \"survivorsofabuse\", \"rapecounseling\", \"hardshipmates\", \n",
    "    \"panicparty\", \"socialanxiety\"\n",
    "]\n",
    "\n",
    "# Union of the two sets to remove duplicates and then convert back to list\n",
    "subreddit_lst = list(set(intersection).union(mh_subreddits))"
   ]
  },
  {
   "cell_type": "code",
   "execution_count": 2,
   "metadata": {},
   "outputs": [
    {
     "name": "stdout",
     "output_type": "stream",
     "text": [
      "[\"rant\", \"relationship_advice\", \"NoStupidQuestions\", \"BPD\", \"depression\", \"TooAfraidToAsk\", \"self\", \"raisedbynarcissists\", \"Drugs\", \"legaladvice\", \"OutOfTheLoop\", \"NoFap\", \"AMA\", \"tifu\", \"relationships\", \"ptsd\", \"dating_advice\", \"Christianity\", \"TwoXChromosomes\", \"offmychest\", \"explainlikeimfive\", \"findareddit\", \"panicparty\", \"jobs\", \"StopSelfHarm\", \"copypasta\", \"unpopularopinion\", \"askscience\", \"psychoticreddit\", \"hardshipmates\", \"survivorsofabuse\", \"CasualConversation\", \"teenagers\", \"loseit\", \"socialanxiety\", \"TrueOffMyChest\", \"WritingPrompts\", \"Tinder\", \"mentalhealth\", \"AskOuija\", \"tipofmytongue\", \"AskMen\", \"AskDocs\", \"Anxiety\", \"EatingDisorders\", \"rapecounseling\", \"traumatoolbox\", \"AmItheAsshole\", \"ADHD\", \"skyrim\", \"AskWomen\", \"BipolarReddit\", \"atheism\", \"Advice\", \"confession\", \"lgbt\", \"sex\"]\n"
     ]
    }
   ],
   "source": [
    "# Assuming subreddit_lst is already defined as per your Python code\n",
    "\n",
    "# Convert the Python list to a JavaScript array string\n",
    "js_array_str = str(subreddit_lst).replace(\"'\", '\"')\n",
    "\n",
    "# Print out the JavaScript array string\n",
    "print(js_array_str)\n"
   ]
  }
 ],
 "metadata": {
  "kernelspec": {
   "display_name": "dl",
   "language": "python",
   "name": "python3"
  },
  "language_info": {
   "codemirror_mode": {
    "name": "ipython",
    "version": 3
   },
   "file_extension": ".py",
   "mimetype": "text/x-python",
   "name": "python",
   "nbconvert_exporter": "python",
   "pygments_lexer": "ipython3",
   "version": "3.10.12"
  }
 },
 "nbformat": 4,
 "nbformat_minor": 2
}
