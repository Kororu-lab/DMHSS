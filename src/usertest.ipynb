{
 "cells": [
  {
   "cell_type": "code",
   "execution_count": 1,
   "metadata": {},
   "outputs": [],
   "source": [
    "import pandas as pd"
   ]
  },
  {
   "cell_type": "markdown",
   "metadata": {},
   "source": [
    "1. Identify Users from r/SuicideWatch\n",
    "\n",
    "As we discussed, you'll first identify all unique authors from the r/SuicideWatch file(s)."
   ]
  },
  {
   "cell_type": "code",
   "execution_count": 4,
   "metadata": {},
   "outputs": [
    {
     "name": "stdout",
     "output_type": "stream",
     "text": [
      "~/DMHSS/data/processed/SuicideWatch.comments.csv\n"
     ]
    },
    {
     "name": "stderr",
     "output_type": "stream",
     "text": [
      "/tmp/ipykernel_1091033/4088629735.py:4: DtypeWarning: Columns (6,8,9) have mixed types. Specify dtype option on import or set low_memory=False.\n",
      "  sw_comments = pd.read_csv(root_dir+'data/processed/SuicideWatch_comments.csv')\n",
      "/tmp/ipykernel_1091033/4088629735.py:5: DtypeWarning: Columns (1,6) have mixed types. Specify dtype option on import or set low_memory=False.\n",
      "  sw_submissions = pd.read_csv(root_dir+'data/processed/SuicideWatch_submissions.csv')\n"
     ]
    },
    {
     "data": {
      "text/plain": [
       "566742"
      ]
     },
     "execution_count": 4,
     "metadata": {},
     "output_type": "execute_result"
    }
   ],
   "source": [
    "# Load the r/SuicideWatch data\n",
    "root_dir = \"~/DMHSS/\"\n",
    "\n",
    "sw_comments = pd.read_csv(root_dir+'data/processed/SuicideWatch_comments.csv')\n",
    "sw_submissions = pd.read_csv(root_dir+'data/processed/SuicideWatch_submissions.csv')\n",
    "\n",
    "# Identify unique authors from r/SuicideWatch\n",
    "sw_users = pd.concat([sw_comments['author'], sw_submissions['author']]).unique()\n",
    "len(sw_users)"
   ]
  },
  {
   "cell_type": "markdown",
   "metadata": {},
   "source": [
    "2. Track User Activity in Monthly Files\n",
    "\n",
    "You'll iterate over the monthly files, filtering out comments and submissions from the identified sw_users."
   ]
  },
  {
   "cell_type": "code",
   "execution_count": 6,
   "metadata": {},
   "outputs": [
    {
     "ename": "FileNotFoundError",
     "evalue": "[Errno 2] No such file or directory: '~/DMHSS/data/processed'",
     "output_type": "error",
     "traceback": [
      "\u001b[0;31m---------------------------------------------------------------------------\u001b[0m",
      "\u001b[0;31mFileNotFoundError\u001b[0m                         Traceback (most recent call last)",
      "\u001b[1;32m/home/kororu/DMHSS/src/usertest.ipynb Cell 5\u001b[0m line \u001b[0;36m8\n\u001b[1;32m      <a href='vscode-notebook-cell://ssh-remote%2B7b22686f73744e616d65223a224b6f726f72752d4d61696e227d/home/kororu/DMHSS/src/usertest.ipynb#W2sdnNjb2RlLXJlbW90ZQ%3D%3D?line=4'>5</a>\u001b[0m filtered_submissions \u001b[39m=\u001b[39m []\n\u001b[1;32m      <a href='vscode-notebook-cell://ssh-remote%2B7b22686f73744e616d65223a224b6f726f72752d4d61696e227d/home/kororu/DMHSS/src/usertest.ipynb#W2sdnNjb2RlLXJlbW90ZQ%3D%3D?line=6'>7</a>\u001b[0m \u001b[39m# Iterate over the monthly files\u001b[39;00m\n\u001b[0;32m----> <a href='vscode-notebook-cell://ssh-remote%2B7b22686f73744e616d65223a224b6f726f72752d4d61696e227d/home/kororu/DMHSS/src/usertest.ipynb#W2sdnNjb2RlLXJlbW90ZQ%3D%3D?line=7'>8</a>\u001b[0m \u001b[39mfor\u001b[39;00m file_name \u001b[39min\u001b[39;00m os\u001b[39m.\u001b[39;49mlistdir(monthly_files_dir):\n\u001b[1;32m      <a href='vscode-notebook-cell://ssh-remote%2B7b22686f73744e616d65223a224b6f726f72752d4d61696e227d/home/kororu/DMHSS/src/usertest.ipynb#W2sdnNjb2RlLXJlbW90ZQ%3D%3D?line=8'>9</a>\u001b[0m     \u001b[39mif\u001b[39;00m \u001b[39m'\u001b[39m\u001b[39mRC_2022-04\u001b[39m\u001b[39m'\u001b[39m \u001b[39min\u001b[39;00m file_name:\n\u001b[1;32m     <a href='vscode-notebook-cell://ssh-remote%2B7b22686f73744e616d65223a224b6f726f72752d4d61696e227d/home/kororu/DMHSS/src/usertest.ipynb#W2sdnNjb2RlLXJlbW90ZQ%3D%3D?line=9'>10</a>\u001b[0m         comments_df \u001b[39m=\u001b[39m pd\u001b[39m.\u001b[39mread_csv(os\u001b[39m.\u001b[39mpath\u001b[39m.\u001b[39mjoin(monthly_files_dir, file_name))\n",
      "\u001b[0;31mFileNotFoundError\u001b[0m: [Errno 2] No such file or directory: '~/DMHSS/data/processed'"
     ]
    }
   ],
   "source": [
    "import os\n",
    "\n",
    "monthly_files_dir = os.path.expanduser(root_dir+'data/processed/')\n",
    "filtered_comments = []\n",
    "filtered_submissions = []\n",
    "\n",
    "# Iterate over the monthly files\n",
    "for file_name in os.listdir(monthly_files_dir):\n",
    "    if 'RC' in file_name:\n",
    "        comments_df = pd.read_csv(os.path.join(monthly_files_dir, file_name))\n",
    "        filtered_comments.append(comments_df[comments_df['author'].isin(sw_users)])\n",
    "    elif 'RS' in file_name:\n",
    "        submissions_df = pd.read_csv(os.path.join(monthly_files_dir, file_name))\n",
    "        filtered_submissions.append(submissions_df[submissions_df['author'].isin(sw_users)])\n",
    "\n",
    "# Concatenate the filtered dataframes\n",
    "filtered_comments_df = pd.concat(filtered_comments)\n",
    "filtered_submissions_df = pd.concat(filtered_submissions)\n"
   ]
  },
  {
   "cell_type": "markdown",
   "metadata": {},
   "source": [
    "3. Identify Relevant Subreddits\n",
    "\n",
    "Here, you'll see which subreddits these users are most active in, other than r/SuicideWatch. This will help you filter out the subreddits that seem highly important for analysis."
   ]
  },
  {
   "cell_type": "code",
   "execution_count": null,
   "metadata": {},
   "outputs": [],
   "source": [
    "# Get subreddit activity counts\n",
    "subreddit_activity = filtered_comments_df['subreddit'].value_counts()\n",
    "\n",
    "threshold = 1000\n",
    "# You can set a threshold or manually review to determine which subreddits are of interest\n",
    "relevant_subreddits = subreddit_activity[subreddit_activity > threshold].index.tolist()\n"
   ]
  },
  {
   "cell_type": "markdown",
   "metadata": {},
   "source": [
    "4. Filter Monthly Files by Relevant Subreddits\n",
    "\n",
    "Finally, you'll process the monthly files again, but this time focusing on the identified relevant_subreddits."
   ]
  },
  {
   "cell_type": "code",
   "execution_count": null,
   "metadata": {},
   "outputs": [],
   "source": [
    "filtered_comments_relevant = []\n",
    "filtered_submissions_relevant = []\n",
    "\n",
    "# Iterate over the monthly files again\n",
    "for file_name in os.listdir(monthly_files_dir):\n",
    "    if 'comments' in file_name:\n",
    "        comments_df = pd.read_csv(os.path.join(monthly_files_dir, file_name))\n",
    "        filtered_comments_relevant.append(comments_df[comments_df['subreddit'].isin(relevant_subreddits)])\n",
    "    elif 'submissions' in file_name:\n",
    "        submissions_df = pd.read_csv(os.path.join(monthly_files_dir, file_name))\n",
    "        filtered_submissions_relevant.append(submissions_df[submissions_df['subreddit'].isin(relevant_subreddits)])\n",
    "\n",
    "# Concatenate the filtered dataframes\n",
    "filtered_comments_relevant_df = pd.concat(filtered_comments_relevant)\n",
    "filtered_submissions_relevant_df = pd.concat(filtered_submissions_relevant)\n"
   ]
  }
 ],
 "metadata": {
  "kernelspec": {
   "display_name": "base",
   "language": "python",
   "name": "python3"
  },
  "language_info": {
   "codemirror_mode": {
    "name": "ipython",
    "version": 3
   },
   "file_extension": ".py",
   "mimetype": "text/x-python",
   "name": "python",
   "nbconvert_exporter": "python",
   "pygments_lexer": "ipython3",
   "version": "3.11.4"
  },
  "orig_nbformat": 4
 },
 "nbformat": 4,
 "nbformat_minor": 2
}
